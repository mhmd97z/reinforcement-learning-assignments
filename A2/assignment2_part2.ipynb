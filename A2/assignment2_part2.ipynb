{
  "nbformat": 4,
  "nbformat_minor": 0,
  "metadata": {
    "colab": {
      "name": "assignment2_part2.ipynb",
      "provenance": [],
      "collapsed_sections": [],
      "toc_visible": true
    },
    "kernelspec": {
      "name": "python3",
      "display_name": "Python 3"
    },
    "language_info": {
      "name": "python"
    }
  },
  "cells": [
    {
      "cell_type": "markdown",
      "metadata": {
        "id": "osneZOequ9iZ"
      },
      "source": [
        "## Import and Config"
      ]
    },
    {
      "cell_type": "code",
      "metadata": {
        "colab": {
          "base_uri": "https://localhost:8080/"
        },
        "id": "SG3geeLcWXDI",
        "outputId": "d03da71f-1348-43d8-cd49-145acd74e3c1"
      },
      "source": [
        "from google.colab import drive\n",
        "drive.mount('/content/drive')\n",
        "%cd drive/MyDrive/RL\n",
        "\n",
        "import gym\n",
        "import numpy as np\n",
        "import utils.envs, utils.seed, utils.buffers, utils.torch, utils.common\n",
        "import torch\n",
        "import tqdm\n",
        "import matplotlib.pyplot as plt\n",
        "import warnings\n",
        "warnings.filterwarnings(\"ignore\")\n",
        "\n",
        "# Constants\n",
        "SEEDS = [1,2,3,4,5]\n",
        "t = utils.torch.TorchHelper()\n",
        "DEVICE = t.device\n",
        "OBS_N = 4               # State space size\n",
        "ACT_N = 2               # Action space size\n",
        "MINIBATCH_SIZE = 64     # How many examples to sample per train step\n",
        "GAMMA = 0.99            # Discount factor in episodic reward objective\n",
        "LEARNING_RATE = 5e-4    # Learning rate for Adam optimizer\n",
        "TRAIN_AFTER_EPISODES = 10   # Just collect episodes for these many episodes\n",
        "TRAIN_EPOCHS = 25       # Train for these many epochs every time\n",
        "BUFSIZE = 10000         # Replay buffer size\n",
        "EPISODES = 300          # Total number of episodes to learn over\n",
        "TEST_EPISODES = 1       # Test episodes after every train episode\n",
        "HIDDEN = 512            # Hidden nodes\n",
        "TARGET_UPDATE_FREQ = 10 # Target network update frequency\n",
        "STARTING_EPSILON = 1.0  # Starting epsilon\n",
        "STEPS_MAX = 20000       # Gradually reduce epsilon over these many steps\n",
        "EPSILON_END = 0.01      # At the end, keep epsilon at this value\n",
        "\n",
        "# Global variables\n",
        "EPSILON = STARTING_EPSILON\n",
        "Q = None\n",
        "LAMBDA = 10"
      ],
      "execution_count": null,
      "outputs": [
        {
          "output_type": "stream",
          "name": "stdout",
          "text": [
            "Drive already mounted at /content/drive; to attempt to forcibly remount, call drive.mount(\"/content/drive\", force_remount=True).\n",
            "[Errno 2] No such file or directory: 'drive/MyDrive/RL'\n",
            "/content/drive/MyDrive/RL\n"
          ]
        }
      ]
    },
    {
      "cell_type": "markdown",
      "metadata": {
        "id": "uuWNYN9ynlMH"
      },
      "source": [
        "## DQN\n"
      ]
    },
    {
      "cell_type": "code",
      "metadata": {
        "id": "yfQwwl3fU05O",
        "colab": {
          "base_uri": "https://localhost:8080/",
          "height": 614
        },
        "outputId": "e3135676-b801-4455-ec81-afd20c511feb"
      },
      "source": [
        "# Create environment\n",
        "# Create replay buffer\n",
        "# Create network for Q(s, a)\n",
        "# Create target network\n",
        "# Create optimizer \n",
        "def create_everything(seed):\n",
        "\n",
        "    utils.seed.seed(seed)\n",
        "    env = gym.make(\"CartPole-v0\")\n",
        "    env.seed(seed)\n",
        "    test_env = gym.make(\"CartPole-v0\")\n",
        "    test_env.seed(10+seed)                  \n",
        "    buf = utils.buffers.ReplayBuffer(BUFSIZE)\n",
        "    Q = torch.nn.Sequential(\n",
        "        torch.nn.Linear(OBS_N, HIDDEN), torch.nn.ReLU(),\n",
        "        torch.nn.Linear(HIDDEN, HIDDEN), torch.nn.ReLU(),\n",
        "        torch.nn.Linear(HIDDEN, ACT_N)\n",
        "    ).to(DEVICE)\n",
        "    Qt = torch.nn.Sequential(\n",
        "        torch.nn.Linear(OBS_N, HIDDEN), torch.nn.ReLU(),\n",
        "        torch.nn.Linear(HIDDEN, HIDDEN), torch.nn.ReLU(),\n",
        "        torch.nn.Linear(HIDDEN, ACT_N)\n",
        "    ).to(DEVICE)\n",
        "    OPT = torch.optim.Adam(Q.parameters(), lr = LEARNING_RATE)\n",
        "    return env, test_env, buf, Q, Qt, OPT\n",
        "\n",
        "# Update a target network using a source network\n",
        "def update(target, source):\n",
        "    for tp, p in zip(target.parameters(), source.parameters()):\n",
        "        tp.data.copy_(p.data)\n",
        "\n",
        "# Create epsilon-greedy policy\n",
        "def policy(env, obs):\n",
        "\n",
        "    global EPSILON, Q\n",
        "    obs = t.f(obs).view(-1, OBS_N)  # Convert to torch tensor\n",
        "\n",
        "    # With probability EPSILON, choose a random action\n",
        "    # Rest of the time, choose argmax_a Q(s, a) \n",
        "    if np.random.rand() < EPSILON:\n",
        "        action = np.random.randint(ACT_N)\n",
        "    else:\n",
        "        qvalues = Q(obs)\n",
        "        action = torch.argmax(qvalues).item()\n",
        "\n",
        "    # Epsilon update rule: Keep reducing a small amount over\n",
        "    # STEPS_MAX number of steps, and at the end, fix to EPSILON_END\n",
        "    EPSILON = max(EPSILON_END, EPSILON - (1.0 / STEPS_MAX))\n",
        "    # print(EPSILON)\n",
        "\n",
        "    return action\n",
        "\n",
        "\n",
        "# Update networks\n",
        "def update_networks(epi, buf, Q, Qt, OPT):\n",
        "    \n",
        "    # Sample a minibatch (s, a, r, s', d)\n",
        "    # Each variable is a vector of corresponding values\n",
        "    S, A, R, S2, D = buf.sample(MINIBATCH_SIZE, t)\n",
        "    \n",
        "    # Get Q(s, a) for every (s, a) in the minibatch\n",
        "    qvalues = Q(S).gather(1, A.view(-1, 1)).squeeze()\n",
        "\n",
        "    # Get max_a' Qt(s', a') for every (s') in the minibatch\n",
        "    q2values = torch.max(Qt(S2), dim = 1).values\n",
        "\n",
        "    # If done, \n",
        "    #   y = r(s, a) + GAMMA * max_a' Q(s', a') * (0)\n",
        "    # If not done, \n",
        "    #   y = r(s, a) + GAMMA * max_a' Q(s', a') * (1)       \n",
        "    targets = R + GAMMA * q2values * (1-D)\n",
        "\n",
        "    # Detach y since it is the target. Target values should\n",
        "    # be kept fixed.\n",
        "    loss = torch.nn.MSELoss()(targets.detach(), qvalues)\n",
        "\n",
        "    # Backpropagation\n",
        "    OPT.zero_grad()\n",
        "    loss.backward()\n",
        "    OPT.step()\n",
        "\n",
        "    # Update target network every few steps\n",
        "    if epi % TARGET_UPDATE_FREQ == 0:\n",
        "        update(Qt, Q)\n",
        "\n",
        "    return loss.item()\n",
        "\n",
        "# Play episodes\n",
        "# Training function\n",
        "def train(seed):\n",
        "\n",
        "    global EPSILON, Q\n",
        "    print(\"Seed=%d\" % seed)\n",
        "\n",
        "    # Create environment, buffer, Q, Q target, optimizer\n",
        "    env, test_env, buf, Q, Qt, OPT = create_everything(seed)\n",
        "\n",
        "    # epsilon greedy exploration\n",
        "    EPSILON = STARTING_EPSILON\n",
        "\n",
        "    testRs = []\n",
        "    last25testRs = []\n",
        "    print(\"Training:\")\n",
        "    pbar = tqdm.trange(EPISODES)\n",
        "    for epi in pbar:\n",
        "\n",
        "        # Play an episode and log episodic reward\n",
        "        S, A, R = utils.envs.play_episode_rb(env, policy, buf)\n",
        "\n",
        "        # Train after collecting sufficient experience\n",
        "        if epi >= TRAIN_AFTER_EPISODES:\n",
        "\n",
        "            # Train for TRAIN_EPOCHS\n",
        "            for tri in range(TRAIN_EPOCHS): \n",
        "                update_networks(epi, buf, Q, Qt, OPT)\n",
        "\n",
        "        # Evaluate for TEST_EPISODES number of episodes\n",
        "        Rews = []\n",
        "        for epj in range(TEST_EPISODES):\n",
        "            S, A, R = utils.envs.play_episode(test_env, policy, render = False)\n",
        "            Rews += [sum(R)]\n",
        "        testRs += [sum(Rews)/TEST_EPISODES]\n",
        "\n",
        "        # Update progress bar\n",
        "        last25testRs += [sum(testRs[-25:])/len(testRs[-25:])]\n",
        "        pbar.set_description(\"R25(%g)\" % (last25testRs[-1]))\n",
        "\n",
        "    # Close progress bar, environment\n",
        "    pbar.close()\n",
        "    print(\"Training finished!\")\n",
        "    env.close()\n",
        "    test_env.close()\n",
        "\n",
        "    return last25testRs\n",
        "\n",
        "# Plot mean curve and (mean-std, mean+std) curve with some transparency\n",
        "# Clip the curves to be between 0, 200\n",
        "def plot_arrays(vars, color, label):\n",
        "    mean = np.mean(vars, axis=0)\n",
        "    std = np.std(vars, axis=0)\n",
        "    plt.plot(range(len(mean)), mean, color=color, label=label)\n",
        "    plt.fill_between(range(len(mean)), np.maximum(mean-std, 0), np.minimum(mean+std,200), color=color, alpha=0.3)\n",
        "\n",
        "if __name__ == \"__main__\":\n",
        "\n",
        "    # Train for different seeds\n",
        "    curves = []\n",
        "    for seed in SEEDS:\n",
        "        curves += [train(seed)]\n",
        "\n",
        "    # Plot the curve for the given seeds\n",
        "    plot_arrays(curves, 'b', 'dqn')\n",
        "    plt.legend(loc='best')\n",
        "    plt.savefig('dqn.png')\n",
        "    plt.show()\n"
      ],
      "execution_count": null,
      "outputs": [
        {
          "output_type": "stream",
          "name": "stdout",
          "text": [
            "Seed=1\n",
            "Training:\n"
          ]
        },
        {
          "output_type": "stream",
          "name": "stderr",
          "text": [
            "R25(171.72): 100%|██████████| 300/300 [01:27<00:00,  3.42it/s]\n"
          ]
        },
        {
          "output_type": "stream",
          "name": "stdout",
          "text": [
            "Training finished!\n",
            "Seed=2\n",
            "Training:\n"
          ]
        },
        {
          "output_type": "stream",
          "name": "stderr",
          "text": [
            "R25(185.48): 100%|██████████| 300/300 [01:30<00:00,  3.31it/s]\n"
          ]
        },
        {
          "output_type": "stream",
          "name": "stdout",
          "text": [
            "Training finished!\n",
            "Seed=3\n",
            "Training:\n"
          ]
        },
        {
          "output_type": "stream",
          "name": "stderr",
          "text": [
            "R25(189.92): 100%|██████████| 300/300 [01:28<00:00,  3.41it/s]\n"
          ]
        },
        {
          "output_type": "stream",
          "name": "stdout",
          "text": [
            "Training finished!\n",
            "Seed=4\n",
            "Training:\n"
          ]
        },
        {
          "output_type": "stream",
          "name": "stderr",
          "text": [
            "R25(174.92): 100%|██████████| 300/300 [01:28<00:00,  3.40it/s]\n"
          ]
        },
        {
          "output_type": "stream",
          "name": "stdout",
          "text": [
            "Training finished!\n",
            "Seed=5\n",
            "Training:\n"
          ]
        },
        {
          "output_type": "stream",
          "name": "stderr",
          "text": [
            "R25(189.6): 100%|██████████| 300/300 [01:27<00:00,  3.43it/s]\n"
          ]
        },
        {
          "output_type": "stream",
          "name": "stdout",
          "text": [
            "Training finished!\n"
          ]
        },
        {
          "output_type": "display_data",
          "data": {
            "image/png": "[encoded data removed]",
            "text/plain": [
              "<Figure size 432x288 with 1 Axes>"
            ]
          },
          "metadata": {
            "needs_background": "light"
          }
        }
      ]
    },
    {
      "cell_type": "markdown",
      "metadata": {
        "id": "Tfl3Q-aRnofx"
      },
      "source": [
        "## Soft QN\n"
      ]
    },
    {
      "cell_type": "code",
      "metadata": {
        "id": "UCI-P9yGn0sP"
      },
      "source": [
        "Q = None\n",
        "# Create environment\n",
        "# Create replay buffer\n",
        "# Create network for Q(s, a)\n",
        "# Create target network\n",
        "# Create optimizer \n",
        "def create_everything(seed):\n",
        "\n",
        "    utils.seed.seed(seed)\n",
        "    env = gym.make(\"CartPole-v0\")\n",
        "    env.seed(seed)\n",
        "    test_env = gym.make(\"CartPole-v0\")\n",
        "    test_env.seed(10+seed)                  \n",
        "    buf = utils.buffers.ReplayBuffer(BUFSIZE)\n",
        "    Q = torch.nn.Sequential(\n",
        "        torch.nn.Linear(OBS_N, HIDDEN), torch.nn.ReLU(),\n",
        "        torch.nn.Linear(HIDDEN, HIDDEN), torch.nn.ReLU(),\n",
        "        torch.nn.Linear(HIDDEN, ACT_N)\n",
        "    ).to(DEVICE)\n",
        "    Qt = torch.nn.Sequential(\n",
        "        torch.nn.Linear(OBS_N, HIDDEN), torch.nn.ReLU(),\n",
        "        torch.nn.Linear(HIDDEN, HIDDEN), torch.nn.ReLU(),\n",
        "        torch.nn.Linear(HIDDEN, ACT_N)\n",
        "    ).to(DEVICE)\n",
        "    OPT = torch.optim.Adam(Q.parameters(), lr = LEARNING_RATE)\n",
        "    return env, test_env, buf, Q, Qt, OPT\n",
        "\n",
        "\n",
        "# Update a target network using a source network\n",
        "def update(target, source):\n",
        "    for tp, p in zip(target.parameters(), source.parameters()):\n",
        "        tp.data.copy_(p.data)\n",
        "\n",
        "\n",
        "# Create softmax policy\n",
        "def policy_SQN(env, obs):\n",
        "\n",
        "    global Q\n",
        "    obs = t.f(obs).view(-1, OBS_N)\n",
        "    qvalues = Q(obs)\n",
        "    \n",
        "    # Sample actions with the probability of Softmax of Q\n",
        "    action = torch.multinomial(torch.nn.Softmax(dim=-1)(qvalues / LAMBDA), \n",
        "                  num_samples=1, replacement=True).item()\n",
        "    \n",
        "    return action\n",
        "\n",
        "\n",
        "# Update networks\n",
        "def update_networks_SQN(epi, buf, Q, Qt, OPT):\n",
        "\n",
        "    # Sample a minibatch (s, a, r, s', d)\n",
        "    # Each variable is a vector of corresponding values\n",
        "    S, A, R, S2, D = buf.sample(MINIBATCH_SIZE, t)\n",
        "\n",
        "    # Get Q(s, a) for every (s, a) in the minibatch\n",
        "    qvalues = Q(S).gather(1, A.view(-1, 1)).squeeze()\n",
        "\n",
        "    # Get soft_max_a' Qt(s', a') for every (s') in the minibatch\n",
        "    q2values = LAMBDA * torch.logsumexp(Qt(S2) / LAMBDA, dim = 1)\n",
        "\n",
        "    # If done, \n",
        "    #   y = r(s, a) + GAMMA * max_a' Q(s', a') * (0)\n",
        "    # If not done,\n",
        "    #   y = r(s, a) + GAMMA * max_a' Q(s', a') * (1)       \n",
        "    targets = R + GAMMA * q2values * (1-D)\n",
        "\n",
        "    # Detach y since it is the target. Target values should\n",
        "    # be kept fixed\n",
        "    loss = torch.nn.MSELoss()(targets.detach(), qvalues)\n",
        "\n",
        "    # Backpropagation\n",
        "    OPT.zero_grad()\n",
        "    loss.backward()\n",
        "    OPT.step()\n",
        "\n",
        "    # Update target network every few steps\n",
        "    if epi % TARGET_UPDATE_FREQ == 0:\n",
        "        update(Qt, Q)\n",
        "\n",
        "    return loss.item()\n",
        "\n",
        "# Play episodes\n",
        "# Training function\n",
        "def train_SQN(seed):\n",
        "\n",
        "    global Q\n",
        "    print(\"Seed=%d\" % seed)\n",
        "\n",
        "    # Create environment, buffer, Q, Q target, optimizer\n",
        "    env, test_env, buf, Q, Qt, OPT = create_everything(seed)\n",
        "\n",
        "    testRs = []\n",
        "    last25testRs = []\n",
        "    print(\"Training:\")\n",
        "    pbar = tqdm.trange(EPISODES)\n",
        "    for epi in pbar:\n",
        "\n",
        "        # Play an episode and log episodic reward\n",
        "        S, A, R = utils.envs.play_episode_rb(env, policy_SQN, buf)\n",
        "\n",
        "        # Train after collecting sufficient experience\n",
        "        if epi >= TRAIN_AFTER_EPISODES:\n",
        "\n",
        "            # Train for TRAIN_EPOCHS\n",
        "            for tri in range(TRAIN_EPOCHS): \n",
        "                update_networks_SQN(epi, buf, Q, Qt, OPT)\n",
        "\n",
        "        # Evaluate for TEST_EPISODES number of episodes\n",
        "        Rews = []\n",
        "        for epj in range(TEST_EPISODES):\n",
        "            S, A, R = utils.envs.play_episode(test_env, policy_SQN, render = False)\n",
        "            Rews += [sum(R)]\n",
        "        testRs += [sum(Rews)/TEST_EPISODES]\n",
        "\n",
        "        # Update progress bar\n",
        "        last25testRs += [sum(testRs[-25:])/len(testRs[-25:])]\n",
        "        pbar.set_description(\"R25(%g)\" % (last25testRs[-1]))\n",
        "\n",
        "    # Close progress bar, environment\n",
        "    pbar.close()\n",
        "    print(\"Training finished!\")\n",
        "    env.close()\n",
        "    test_env.close()\n",
        "\n",
        "    return last25testRs\n",
        "\n",
        "# Plot mean curve and (mean-std, mean+std) curve with some transparency\n",
        "# Clip the curves to be between 0, 200 \n",
        "def plot_arrays(vars, color, label):\n",
        "    mean = np.mean(vars, axis=0)\n",
        "    std = np.std(vars, axis=0)\n",
        "    plt.plot(range(len(mean)), mean, color=color, label=label)\n",
        "    plt.fill_between(range(len(mean)), np.maximum(mean-std, 0), np.minimum(mean+std,200), color=color, alpha=0.3)\n"
      ],
      "execution_count": null,
      "outputs": []
    },
    {
      "cell_type": "markdown",
      "metadata": {
        "id": "5f6lpvzvBq3V"
      },
      "source": [
        "## Soft Actor critic"
      ]
    },
    {
      "cell_type": "code",
      "metadata": {
        "id": "AZB9_1ekBxzI"
      },
      "source": [
        "Q = None\n",
        "# Create environment\n",
        "# Create replay buffer\n",
        "# Create network for Q(s, a)\n",
        "# Create target network\n",
        "# Create optimizer \n",
        "def create_everything_SAC(seed):\n",
        "\n",
        "    utils.seed.seed(seed)\n",
        "    env = gym.make(\"CartPole-v0\")\n",
        "    env.seed(seed)\n",
        "    test_env = gym.make(\"CartPole-v0\")\n",
        "    test_env.seed(10+seed)\n",
        "    buf = utils.buffers.ReplayBuffer(BUFSIZE)\n",
        "    Q = torch.nn.Sequential(\n",
        "        torch.nn.Linear(OBS_N, HIDDEN), torch.nn.ReLU(),\n",
        "        torch.nn.Linear(HIDDEN, HIDDEN), torch.nn.ReLU(),\n",
        "        torch.nn.Linear(HIDDEN, ACT_N)\n",
        "    ).to(DEVICE)\n",
        "    Qt = torch.nn.Sequential(\n",
        "        torch.nn.Linear(OBS_N, HIDDEN), torch.nn.ReLU(),\n",
        "        torch.nn.Linear(HIDDEN, HIDDEN), torch.nn.ReLU(),\n",
        "        torch.nn.Linear(HIDDEN, ACT_N)\n",
        "    ).to(DEVICE)\n",
        "    Pi = torch.nn.Sequential(\n",
        "        torch.nn.Linear(OBS_N, HIDDEN), torch.nn.ReLU(),\n",
        "        torch.nn.Linear(HIDDEN, HIDDEN), torch.nn.ReLU(),\n",
        "        torch.nn.Linear(HIDDEN, ACT_N), torch.nn.Softmax()\n",
        "    ).to(DEVICE)\n",
        "    OPT = torch.optim.Adam(Q.parameters(), lr = LEARNING_RATE)\n",
        "    PiOPT = torch.optim.Adam(Pi.parameters(), lr = LEARNING_RATE)\n",
        "\n",
        "    return env, test_env, buf, Q, Qt, OPT, Pi, PiOPT\n",
        "\n",
        "\n",
        "# Update a target network using a source network\n",
        "def update(target, source):\n",
        "    for tp, p in zip(target.parameters(), source.parameters()):\n",
        "        tp.data.copy_(p.data)\n",
        "\n",
        "\n",
        "# Create policy\n",
        "def policy_SAC(env, obs):\n",
        "\n",
        "    global Pi\n",
        "    obs = t.f(obs).view(-1, OBS_N)\n",
        "    pvalues = Pi(obs)\n",
        "\n",
        "    # Sample actions with the probability of Pi(s)\n",
        "    action = torch.multinomial(pvalues, num_samples=1, replacement=True).item()\n",
        "\n",
        "    return action\n",
        "\n",
        "\n",
        "# Update networks\n",
        "def update_networks_SAC(epi, buf, Q, Qt, OPT, Pi, PiOPT):\n",
        "\n",
        "    # Sample a minibatch (s, a, r, s', d)\n",
        "    # Each variable is a vector of corresponding values\n",
        "    S, A, R, S2, D = buf.sample(MINIBATCH_SIZE, t)\n",
        "    \n",
        "    # Get Q(s, a) for every (s, a) in the minibatch\n",
        "    qvalues = Q(S).gather(1, A.view(-1, 1)).squeeze()\n",
        "\n",
        "    # Sample action for the next action\n",
        "    A2 = torch.multinomial(Pi(S2), num_samples=1, replacement=True).squeeze()\n",
        "    # Get Q Values for the next state-action pair from target Q and also the entropy\n",
        "    q2values = Qt(S2).gather(1, A2.view(-1, 1)).squeeze()\n",
        "    pi_entropy = torch.distributions.Categorical(probs = Pi(S2)).entropy()\n",
        "\n",
        "    # Calculate the target\n",
        "    targets = R + GAMMA * (q2values + LAMBDA * pi_entropy) * (1-D)\n",
        "\n",
        "    # Detach y since it is the target. Target values should be kept fixed\n",
        "    loss = torch.nn.MSELoss()(targets.detach(), qvalues)\n",
        "\n",
        "    # Backpropagation\n",
        "    OPT.zero_grad()\n",
        "    loss.backward()\n",
        "    OPT.step()\n",
        "\n",
        "    # Pi update\n",
        "    val = Pi(S)\n",
        "    target2 = torch.nn.Softmax(dim=-1)(Qt(S) / LAMBDA)\n",
        "    pi_loss = torch.nn.functional.kl_div(target2.log(), val)\n",
        "\n",
        "    # Backpropagation\n",
        "    PiOPT.zero_grad()\n",
        "    pi_loss.backward()\n",
        "    PiOPT.step()\n",
        "\n",
        "    # Update target network every few steps\n",
        "    if epi % TARGET_UPDATE_FREQ == 0:\n",
        "        update(Qt, Q)\n",
        "\n",
        "    return loss.item()\n",
        "\n",
        "# Play episodes\n",
        "# Training function\n",
        "def train_SAC(seed):\n",
        "\n",
        "    global Q, Pi\n",
        "    print(\"Seed=%d\" % seed)\n",
        "\n",
        "    # Create environment, buffer, Q, Q target, optimizer, Pi\n",
        "    env, test_env, buf, Q, Qt, OPT, Pi, PiOPT = create_everything_SAC(seed)\n",
        "\n",
        "    testRs = []\n",
        "    last25testRs = []\n",
        "    print(\"Training:\")\n",
        "    pbar = tqdm.trange(EPISODES)\n",
        "    for epi in pbar:\n",
        "\n",
        "        # Play an episode and log episodic reward\n",
        "        S, A, R = utils.envs.play_episode_rb(env, policy_SAC, buf)\n",
        "\n",
        "        # Train after collecting sufficient experience\n",
        "        if epi >= TRAIN_AFTER_EPISODES:\n",
        "\n",
        "            # Train for TRAIN_EPOCHS\n",
        "            for tri in range(TRAIN_EPOCHS):\n",
        "                update_networks_SAC(epi, buf, Q, Qt, OPT, Pi, PiOPT)\n",
        "\n",
        "        # Evaluate for TEST_EPISODES number of episodes\n",
        "        Rews = []\n",
        "        for epj in range(TEST_EPISODES):\n",
        "            S, A, R = utils.envs.play_episode(test_env, policy_SAC, render=False)\n",
        "            Rews += [sum(R)]\n",
        "        testRs += [sum(Rews)/TEST_EPISODES]\n",
        "\n",
        "        # Update progress bar\n",
        "        last25testRs += [sum(testRs[-25:])/len(testRs[-25:])]\n",
        "        pbar.set_description(\"R25(%g)\" % (last25testRs[-1]))\n",
        "\n",
        "    # Close progress bar, environment\n",
        "    pbar.close()\n",
        "    print(\"Training finished!\")\n",
        "    env.close()\n",
        "    test_env.close()\n",
        "\n",
        "    return last25testRs\n",
        "\n",
        "# Plot mean curve and (mean-std, mean+std) curve with some transparency\n",
        "# Clip the curves to be between 0, 200 \n",
        "def plot_arrays(vars, color, label):\n",
        "    mean = np.mean(vars, axis=0)\n",
        "    std = np.std(vars, axis=0)\n",
        "    plt.plot(range(len(mean)), mean, color=color, label=label)\n",
        "    plt.fill_between(range(len(mean)), np.maximum(mean-std, 0), np.minimum(mean+std,200), color=color, alpha=0.3)"
      ],
      "execution_count": null,
      "outputs": []
    },
    {
      "cell_type": "markdown",
      "metadata": {
        "id": "r9zPrk8AO7Ow"
      },
      "source": [
        "## DQN, SQN, SAC Comparison "
      ]
    },
    {
      "cell_type": "code",
      "metadata": {
        "colab": {
          "base_uri": "https://localhost:8080/",
          "height": 1000
        },
        "id": "nVK_peAUO52Z",
        "outputId": "f7cb7a7c-a5ed-41f1-93ea-c0bc70610410"
      },
      "source": [
        "if __name__ == \"__main__\":\n",
        "\n",
        "    # Train for different seeds\n",
        "    curves = []\n",
        "    for seed in SEEDS:\n",
        "        curves += [train_SAC(seed)]\n",
        "\n",
        "    # Plot the curve for the given seeds\n",
        "    plot_arrays(curves, 'g', 'sac')\n",
        "\n",
        "    # Train for different seeds\n",
        "    curves = []\n",
        "    for seed in SEEDS:\n",
        "        curves += [train_SQN(seed)]\n",
        "\n",
        "    # Plot the curve for the given seeds\n",
        "    plot_arrays(curves, 'r', 'sqn')\n",
        "    \n",
        "    # Train for different seeds\n",
        "    curves = []\n",
        "    for seed in SEEDS:\n",
        "        curves += [train(seed)]\n",
        "\n",
        "    # Plot the curve for the given seeds\n",
        "    plot_arrays(curves, 'b', 'dqn')\n",
        "    \n",
        "    plt.legend(loc='best')\n",
        "    plt.savefig('agg.png')\n",
        "    plt.show()\n"
      ],
      "execution_count": null,
      "outputs": [
        {
          "output_type": "stream",
          "name": "stdout",
          "text": [
            "Seed=1\n",
            "Training:\n"
          ]
        },
        {
          "output_type": "stream",
          "name": "stderr",
          "text": [
            "R25(174.88): 100%|██████████| 300/300 [03:18<00:00,  1.51it/s]\n"
          ]
        },
        {
          "output_type": "stream",
          "name": "stdout",
          "text": [
            "Training finished!\n",
            "Seed=2\n",
            "Training:\n"
          ]
        },
        {
          "output_type": "stream",
          "name": "stderr",
          "text": [
            "R25(172.12): 100%|██████████| 300/300 [03:21<00:00,  1.49it/s]\n"
          ]
        },
        {
          "output_type": "stream",
          "name": "stdout",
          "text": [
            "Training finished!\n",
            "Seed=3\n",
            "Training:\n"
          ]
        },
        {
          "output_type": "stream",
          "name": "stderr",
          "text": [
            "R25(185.16): 100%|██████████| 300/300 [03:20<00:00,  1.49it/s]\n"
          ]
        },
        {
          "output_type": "stream",
          "name": "stdout",
          "text": [
            "Training finished!\n",
            "Seed=4\n",
            "Training:\n"
          ]
        },
        {
          "output_type": "stream",
          "name": "stderr",
          "text": [
            "R25(179.32): 100%|██████████| 300/300 [03:17<00:00,  1.52it/s]\n"
          ]
        },
        {
          "output_type": "stream",
          "name": "stdout",
          "text": [
            "Training finished!\n",
            "Seed=5\n",
            "Training:\n"
          ]
        },
        {
          "output_type": "stream",
          "name": "stderr",
          "text": [
            "R25(191.12): 100%|██████████| 300/300 [03:24<00:00,  1.46it/s]\n"
          ]
        },
        {
          "output_type": "stream",
          "name": "stdout",
          "text": [
            "Training finished!\n",
            "Seed=1\n",
            "Training:\n"
          ]
        },
        {
          "output_type": "stream",
          "name": "stderr",
          "text": [
            "R25(187.36): 100%|██████████| 300/300 [01:42<00:00,  2.92it/s]\n"
          ]
        },
        {
          "output_type": "stream",
          "name": "stdout",
          "text": [
            "Training finished!\n",
            "Seed=2\n",
            "Training:\n"
          ]
        },
        {
          "output_type": "stream",
          "name": "stderr",
          "text": [
            "R25(191.12): 100%|██████████| 300/300 [01:40<00:00,  2.99it/s]\n"
          ]
        },
        {
          "output_type": "stream",
          "name": "stdout",
          "text": [
            "Training finished!\n",
            "Seed=3\n",
            "Training:\n"
          ]
        },
        {
          "output_type": "stream",
          "name": "stderr",
          "text": [
            "R25(182.08): 100%|██████████| 300/300 [01:37<00:00,  3.08it/s]\n"
          ]
        },
        {
          "output_type": "stream",
          "name": "stdout",
          "text": [
            "Training finished!\n",
            "Seed=4\n",
            "Training:\n"
          ]
        },
        {
          "output_type": "stream",
          "name": "stderr",
          "text": [
            "R25(168.36): 100%|██████████| 300/300 [01:36<00:00,  3.12it/s]\n"
          ]
        },
        {
          "output_type": "stream",
          "name": "stdout",
          "text": [
            "Training finished!\n",
            "Seed=5\n",
            "Training:\n"
          ]
        },
        {
          "output_type": "stream",
          "name": "stderr",
          "text": [
            "R25(180.2): 100%|██████████| 300/300 [01:36<00:00,  3.11it/s]\n"
          ]
        },
        {
          "output_type": "stream",
          "name": "stdout",
          "text": [
            "Training finished!\n",
            "Seed=1\n",
            "Training:\n"
          ]
        },
        {
          "output_type": "stream",
          "name": "stderr",
          "text": [
            "R25(171.72): 100%|██████████| 300/300 [01:25<00:00,  3.51it/s]\n"
          ]
        },
        {
          "output_type": "stream",
          "name": "stdout",
          "text": [
            "Training finished!\n",
            "Seed=2\n",
            "Training:\n"
          ]
        },
        {
          "output_type": "stream",
          "name": "stderr",
          "text": [
            "R25(185.48): 100%|██████████| 300/300 [01:27<00:00,  3.41it/s]\n"
          ]
        },
        {
          "output_type": "stream",
          "name": "stdout",
          "text": [
            "Training finished!\n",
            "Seed=3\n",
            "Training:\n"
          ]
        },
        {
          "output_type": "stream",
          "name": "stderr",
          "text": [
            "R25(189.92): 100%|██████████| 300/300 [01:27<00:00,  3.43it/s]\n"
          ]
        },
        {
          "output_type": "stream",
          "name": "stdout",
          "text": [
            "Training finished!\n",
            "Seed=4\n",
            "Training:\n"
          ]
        },
        {
          "output_type": "stream",
          "name": "stderr",
          "text": [
            "R25(174.92): 100%|██████████| 300/300 [01:28<00:00,  3.38it/s]\n"
          ]
        },
        {
          "output_type": "stream",
          "name": "stdout",
          "text": [
            "Training finished!\n",
            "Seed=5\n",
            "Training:\n"
          ]
        },
        {
          "output_type": "stream",
          "name": "stderr",
          "text": [
            "R25(189.6): 100%|██████████| 300/300 [01:27<00:00,  3.43it/s]\n"
          ]
        },
        {
          "output_type": "stream",
          "name": "stdout",
          "text": [
            "Training finished!\n"
          ]
        },
        {
          "output_type": "display_data",
          "data": {
            "image/png": "[encoded data removed]",
            "text/plain": [
              "<Figure size 432x288 with 1 Axes>"
            ]
          },
          "metadata": {
            "needs_background": "light"
          }
        }
      ]
    },
    {
      "cell_type": "markdown",
      "metadata": {
        "id": "Zx-Ln8i6M_Rr"
      },
      "source": [
        "## Sweep lambda in SQN"
      ]
    },
    {
      "cell_type": "code",
      "metadata": {
        "colab": {
          "base_uri": "https://localhost:8080/",
          "height": 1000
        },
        "id": "ZEnaLBWbM_pH",
        "outputId": "100e975c-e629-4b89-e2b7-e571589e56ee"
      },
      "source": [
        "plot_colors = {1: 'b', 10: 'r', 100: 'g', 1000: 'm'}\n",
        "\n",
        "# Go over different lambda values\n",
        "for LAMBDA in [1, 10, 100, 1000]:\n",
        "    curves = []\n",
        "    for seed in SEEDS:\n",
        "        curves += [train_SQN(seed)]\n",
        "\n",
        "    # Plot the curve for the given seeds\n",
        "    plot_arrays(curves, plot_colors[LAMBDA], \"Lambda: {}\".format(LAMBDA))\n",
        "\n",
        "plt.title(\"Effect of Lmabda in SQN\")\n",
        "plt.legend(loc='best')\n",
        "plt.savefig('SQN_LAMBA.png')\n",
        "plt.show()"
      ],
      "execution_count": null,
      "outputs": [
        {
          "output_type": "stream",
          "name": "stdout",
          "text": [
            "Seed=1\n",
            "Training:\n"
          ]
        },
        {
          "output_type": "stream",
          "name": "stderr",
          "text": [
            "R25(196.88): 100%|██████████| 300/300 [01:41<00:00,  2.96it/s]\n"
          ]
        },
        {
          "output_type": "stream",
          "name": "stdout",
          "text": [
            "Training finished!\n",
            "Seed=2\n",
            "Training:\n"
          ]
        },
        {
          "output_type": "stream",
          "name": "stderr",
          "text": [
            "R25(194.88): 100%|██████████| 300/300 [01:40<00:00,  2.98it/s]\n"
          ]
        },
        {
          "output_type": "stream",
          "name": "stdout",
          "text": [
            "Training finished!\n",
            "Seed=3\n",
            "Training:\n"
          ]
        },
        {
          "output_type": "stream",
          "name": "stderr",
          "text": [
            "R25(179.56): 100%|██████████| 300/300 [01:40<00:00,  3.00it/s]\n"
          ]
        },
        {
          "output_type": "stream",
          "name": "stdout",
          "text": [
            "Training finished!\n",
            "Seed=4\n",
            "Training:\n"
          ]
        },
        {
          "output_type": "stream",
          "name": "stderr",
          "text": [
            "R25(186.56): 100%|██████████| 300/300 [01:40<00:00,  2.98it/s]\n"
          ]
        },
        {
          "output_type": "stream",
          "name": "stdout",
          "text": [
            "Training finished!\n",
            "Seed=5\n",
            "Training:\n"
          ]
        },
        {
          "output_type": "stream",
          "name": "stderr",
          "text": [
            "R25(174.16): 100%|██████████| 300/300 [01:42<00:00,  2.92it/s]\n"
          ]
        },
        {
          "output_type": "stream",
          "name": "stdout",
          "text": [
            "Training finished!\n",
            "Seed=1\n",
            "Training:\n"
          ]
        },
        {
          "output_type": "stream",
          "name": "stderr",
          "text": [
            "R25(187.36): 100%|██████████| 300/300 [01:37<00:00,  3.08it/s]\n"
          ]
        },
        {
          "output_type": "stream",
          "name": "stdout",
          "text": [
            "Training finished!\n",
            "Seed=2\n",
            "Training:\n"
          ]
        },
        {
          "output_type": "stream",
          "name": "stderr",
          "text": [
            "R25(191.12): 100%|██████████| 300/300 [01:38<00:00,  3.04it/s]\n"
          ]
        },
        {
          "output_type": "stream",
          "name": "stdout",
          "text": [
            "Training finished!\n",
            "Seed=3\n",
            "Training:\n"
          ]
        },
        {
          "output_type": "stream",
          "name": "stderr",
          "text": [
            "R25(182.08): 100%|██████████| 300/300 [01:37<00:00,  3.08it/s]\n"
          ]
        },
        {
          "output_type": "stream",
          "name": "stdout",
          "text": [
            "Training finished!\n",
            "Seed=4\n",
            "Training:\n"
          ]
        },
        {
          "output_type": "stream",
          "name": "stderr",
          "text": [
            "R25(168.36): 100%|██████████| 300/300 [01:39<00:00,  3.02it/s]\n"
          ]
        },
        {
          "output_type": "stream",
          "name": "stdout",
          "text": [
            "Training finished!\n",
            "Seed=5\n",
            "Training:\n"
          ]
        },
        {
          "output_type": "stream",
          "name": "stderr",
          "text": [
            "R25(180.2): 100%|██████████| 300/300 [01:38<00:00,  3.05it/s]\n"
          ]
        },
        {
          "output_type": "stream",
          "name": "stdout",
          "text": [
            "Training finished!\n",
            "Seed=1\n",
            "Training:\n"
          ]
        },
        {
          "output_type": "stream",
          "name": "stderr",
          "text": [
            "R25(199.68): 100%|██████████| 300/300 [01:35<00:00,  3.15it/s]\n"
          ]
        },
        {
          "output_type": "stream",
          "name": "stdout",
          "text": [
            "Training finished!\n",
            "Seed=2\n",
            "Training:\n"
          ]
        },
        {
          "output_type": "stream",
          "name": "stderr",
          "text": [
            "R25(190): 100%|██████████| 300/300 [01:34<00:00,  3.19it/s]\n"
          ]
        },
        {
          "output_type": "stream",
          "name": "stdout",
          "text": [
            "Training finished!\n",
            "Seed=3\n",
            "Training:\n"
          ]
        },
        {
          "output_type": "stream",
          "name": "stderr",
          "text": [
            "R25(190.2): 100%|██████████| 300/300 [01:31<00:00,  3.27it/s]\n"
          ]
        },
        {
          "output_type": "stream",
          "name": "stdout",
          "text": [
            "Training finished!\n",
            "Seed=4\n",
            "Training:\n"
          ]
        },
        {
          "output_type": "stream",
          "name": "stderr",
          "text": [
            "R25(182.52): 100%|██████████| 300/300 [01:34<00:00,  3.18it/s]\n"
          ]
        },
        {
          "output_type": "stream",
          "name": "stdout",
          "text": [
            "Training finished!\n",
            "Seed=5\n",
            "Training:\n"
          ]
        },
        {
          "output_type": "stream",
          "name": "stderr",
          "text": [
            "R25(196.24): 100%|██████████| 300/300 [01:32<00:00,  3.25it/s]\n"
          ]
        },
        {
          "output_type": "stream",
          "name": "stdout",
          "text": [
            "Training finished!\n",
            "Seed=1\n",
            "Training:\n"
          ]
        },
        {
          "output_type": "stream",
          "name": "stderr",
          "text": [
            "R25(184.44): 100%|██████████| 300/300 [01:21<00:00,  3.66it/s]\n"
          ]
        },
        {
          "output_type": "stream",
          "name": "stdout",
          "text": [
            "Training finished!\n",
            "Seed=2\n",
            "Training:\n"
          ]
        },
        {
          "output_type": "stream",
          "name": "stderr",
          "text": [
            "R25(172.76): 100%|██████████| 300/300 [01:24<00:00,  3.56it/s]\n"
          ]
        },
        {
          "output_type": "stream",
          "name": "stdout",
          "text": [
            "Training finished!\n",
            "Seed=3\n",
            "Training:\n"
          ]
        },
        {
          "output_type": "stream",
          "name": "stderr",
          "text": [
            "R25(199.4): 100%|██████████| 300/300 [01:25<00:00,  3.52it/s]\n"
          ]
        },
        {
          "output_type": "stream",
          "name": "stdout",
          "text": [
            "Training finished!\n",
            "Seed=4\n",
            "Training:\n"
          ]
        },
        {
          "output_type": "stream",
          "name": "stderr",
          "text": [
            "R25(187.08): 100%|██████████| 300/300 [01:25<00:00,  3.53it/s]\n"
          ]
        },
        {
          "output_type": "stream",
          "name": "stdout",
          "text": [
            "Training finished!\n",
            "Seed=5\n",
            "Training:\n"
          ]
        },
        {
          "output_type": "stream",
          "name": "stderr",
          "text": [
            "R25(174.2): 100%|██████████| 300/300 [01:25<00:00,  3.51it/s]\n"
          ]
        },
        {
          "output_type": "stream",
          "name": "stdout",
          "text": [
            "Training finished!\n"
          ]
        },
        {
          "output_type": "display_data",
          "data": {
            "image/png": "[encoded data removed]",
            "text/plain": [
              "<Figure size 432x288 with 1 Axes>"
            ]
          },
          "metadata": {
            "needs_background": "light"
          }
        }
      ]
    },
    {
      "cell_type": "markdown",
      "metadata": {
        "id": "aeyN4jnhPD9H"
      },
      "source": [
        "## Sweep lamba in SAC"
      ]
    },
    {
      "cell_type": "code",
      "metadata": {
        "colab": {
          "base_uri": "https://localhost:8080/",
          "height": 1000
        },
        "id": "CKzSbQ12O62K",
        "outputId": "8d4e81a8-cfb4-4b8b-cbd2-172755fddf69"
      },
      "source": [
        "plot_colors = {1: 'b', 10: 'r', 100: 'g', 1000: 'm'}\n",
        "\n",
        "# Go over different lambda values\n",
        "for LAMBDA in [1, 10, 100, 1000]:\n",
        "    curves = []\n",
        "    for seed in SEEDS:\n",
        "        curves += [train_SAC(seed)]\n",
        "\n",
        "    # Plot the curve for the given seeds\n",
        "    plot_arrays(curves, plot_colors[LAMBDA], \"Lambda: {}\".format(LAMBDA))\n",
        " \n",
        "plt.title(\"Effect of Lmabda in SAC\")\n",
        "plt.legend(loc='best')\n",
        "plt.savefig('SAC_LAMBA.png')\n",
        "plt.show()"
      ],
      "execution_count": null,
      "outputs": [
        {
          "output_type": "stream",
          "name": "stdout",
          "text": [
            "Seed=1\n",
            "Training:\n"
          ]
        },
        {
          "output_type": "stream",
          "name": "stderr",
          "text": [
            "R25(186.04): 100%|██████████| 300/300 [03:19<00:00,  1.50it/s]\n"
          ]
        },
        {
          "output_type": "stream",
          "name": "stdout",
          "text": [
            "Training finished!\n",
            "Seed=2\n",
            "Training:\n"
          ]
        },
        {
          "output_type": "stream",
          "name": "stderr",
          "text": [
            "R25(197.44): 100%|██████████| 300/300 [03:21<00:00,  1.49it/s]\n"
          ]
        },
        {
          "output_type": "stream",
          "name": "stdout",
          "text": [
            "Training finished!\n",
            "Seed=3\n",
            "Training:\n"
          ]
        },
        {
          "output_type": "stream",
          "name": "stderr",
          "text": [
            "R25(185.04): 100%|██████████| 300/300 [03:23<00:00,  1.47it/s]\n"
          ]
        },
        {
          "output_type": "stream",
          "name": "stdout",
          "text": [
            "Training finished!\n",
            "Seed=4\n",
            "Training:\n"
          ]
        },
        {
          "output_type": "stream",
          "name": "stderr",
          "text": [
            "R25(187.84): 100%|██████████| 300/300 [03:20<00:00,  1.50it/s]\n"
          ]
        },
        {
          "output_type": "stream",
          "name": "stdout",
          "text": [
            "Training finished!\n",
            "Seed=5\n",
            "Training:\n"
          ]
        },
        {
          "output_type": "stream",
          "name": "stderr",
          "text": [
            "R25(186.52): 100%|██████████| 300/300 [03:23<00:00,  1.48it/s]\n"
          ]
        },
        {
          "output_type": "stream",
          "name": "stdout",
          "text": [
            "Training finished!\n",
            "Seed=1\n",
            "Training:\n"
          ]
        },
        {
          "output_type": "stream",
          "name": "stderr",
          "text": [
            "R25(174.88): 100%|██████████| 300/300 [03:21<00:00,  1.49it/s]\n"
          ]
        },
        {
          "output_type": "stream",
          "name": "stdout",
          "text": [
            "Training finished!\n",
            "Seed=2\n",
            "Training:\n"
          ]
        },
        {
          "output_type": "stream",
          "name": "stderr",
          "text": [
            "R25(172.12): 100%|██████████| 300/300 [03:19<00:00,  1.50it/s]\n"
          ]
        },
        {
          "output_type": "stream",
          "name": "stdout",
          "text": [
            "Training finished!\n",
            "Seed=3\n",
            "Training:\n"
          ]
        },
        {
          "output_type": "stream",
          "name": "stderr",
          "text": [
            "R25(185.16): 100%|██████████| 300/300 [03:24<00:00,  1.47it/s]\n"
          ]
        },
        {
          "output_type": "stream",
          "name": "stdout",
          "text": [
            "Training finished!\n",
            "Seed=4\n",
            "Training:\n"
          ]
        },
        {
          "output_type": "stream",
          "name": "stderr",
          "text": [
            "R25(179.32): 100%|██████████| 300/300 [03:20<00:00,  1.50it/s]\n"
          ]
        },
        {
          "output_type": "stream",
          "name": "stdout",
          "text": [
            "Training finished!\n",
            "Seed=5\n",
            "Training:\n"
          ]
        },
        {
          "output_type": "stream",
          "name": "stderr",
          "text": [
            "R25(191.12): 100%|██████████| 300/300 [03:19<00:00,  1.50it/s]\n"
          ]
        },
        {
          "output_type": "stream",
          "name": "stdout",
          "text": [
            "Training finished!\n",
            "Seed=1\n",
            "Training:\n"
          ]
        },
        {
          "output_type": "stream",
          "name": "stderr",
          "text": [
            "R25(190.2): 100%|██████████| 300/300 [03:17<00:00,  1.52it/s]\n"
          ]
        },
        {
          "output_type": "stream",
          "name": "stdout",
          "text": [
            "Training finished!\n",
            "Seed=2\n",
            "Training:\n"
          ]
        },
        {
          "output_type": "stream",
          "name": "stderr",
          "text": [
            "R25(192.56): 100%|██████████| 300/300 [03:22<00:00,  1.48it/s]\n"
          ]
        },
        {
          "output_type": "stream",
          "name": "stdout",
          "text": [
            "Training finished!\n",
            "Seed=3\n",
            "Training:\n"
          ]
        },
        {
          "output_type": "stream",
          "name": "stderr",
          "text": [
            "R25(198.76): 100%|██████████| 300/300 [03:18<00:00,  1.51it/s]\n"
          ]
        },
        {
          "output_type": "stream",
          "name": "stdout",
          "text": [
            "Training finished!\n",
            "Seed=4\n",
            "Training:\n"
          ]
        },
        {
          "output_type": "stream",
          "name": "stderr",
          "text": [
            "R25(186.12): 100%|██████████| 300/300 [03:15<00:00,  1.54it/s]\n"
          ]
        },
        {
          "output_type": "stream",
          "name": "stdout",
          "text": [
            "Training finished!\n",
            "Seed=5\n",
            "Training:\n"
          ]
        },
        {
          "output_type": "stream",
          "name": "stderr",
          "text": [
            "R25(188.12): 100%|██████████| 300/300 [03:16<00:00,  1.52it/s]\n"
          ]
        },
        {
          "output_type": "stream",
          "name": "stdout",
          "text": [
            "Training finished!\n",
            "Seed=1\n",
            "Training:\n"
          ]
        },
        {
          "output_type": "stream",
          "name": "stderr",
          "text": [
            "R25(178.56): 100%|██████████| 300/300 [03:05<00:00,  1.62it/s]\n"
          ]
        },
        {
          "output_type": "stream",
          "name": "stdout",
          "text": [
            "Training finished!\n",
            "Seed=2\n",
            "Training:\n"
          ]
        },
        {
          "output_type": "stream",
          "name": "stderr",
          "text": [
            "R25(183.24): 100%|██████████| 300/300 [03:06<00:00,  1.61it/s]\n"
          ]
        },
        {
          "output_type": "stream",
          "name": "stdout",
          "text": [
            "Training finished!\n",
            "Seed=3\n",
            "Training:\n"
          ]
        },
        {
          "output_type": "stream",
          "name": "stderr",
          "text": [
            "R25(199.8): 100%|██████████| 300/300 [03:07<00:00,  1.60it/s]\n"
          ]
        },
        {
          "output_type": "stream",
          "name": "stdout",
          "text": [
            "Training finished!\n",
            "Seed=4\n",
            "Training:\n"
          ]
        },
        {
          "output_type": "stream",
          "name": "stderr",
          "text": [
            "R25(183.44): 100%|██████████| 300/300 [03:04<00:00,  1.63it/s]\n"
          ]
        },
        {
          "output_type": "stream",
          "name": "stdout",
          "text": [
            "Training finished!\n",
            "Seed=5\n",
            "Training:\n"
          ]
        },
        {
          "output_type": "stream",
          "name": "stderr",
          "text": [
            "R25(193.4): 100%|██████████| 300/300 [03:06<00:00,  1.61it/s]\n"
          ]
        },
        {
          "output_type": "stream",
          "name": "stdout",
          "text": [
            "Training finished!\n"
          ]
        },
        {
          "output_type": "display_data",
          "data": {
            "image/png": "[encoded data removed]",
            "text/plain": [
              "<Figure size 432x288 with 1 Axes>"
            ]
          },
          "metadata": {
            "needs_background": "light"
          }
        }
      ]
    },
    {
      "cell_type": "markdown",
      "metadata": {
        "id": "XPqu5Qklk7KD"
      },
      "source": [
        "### Explanation\n",
        "*** Explain the results. Discuss how different properties of each algorithm influence the number of steps before the pole falls. Discuss also the impact of the temperature lambda.***\n"
      ]
    },
    {
      "cell_type": "markdown",
      "metadata": {
        "id": "tDuom05uCyuj"
      },
      "source": [
        "The results show that sqn slighlty outperforms sac, but sac significantly outperforms dqn. It demosterates the fact that adding entropy to the objective is useful. This is because by adding entropy, we tend to not giving higher chance of selection to a specific acton, and rather favor more randomness in action selection that as a result enables the agent to more explore. Therefore, we observe a fast convergence in sqn and sac. \n",
        "\n",
        "Here, sqn is outperforming sac. I did not expect it, but I guess it is related to the dynamics of this problem.\n",
        "\n",
        "In the last two figures, we can observe that as the temerature increases, the performance drops. It is due to the fact that when the temperature is rather high, we de not prefer a good action all the time, and we have more chance of exploration. For this problem, a sequence a bad actions can easily instabilize the pole, in a way that it falls. So here more exploration has the serious cost of ending the game very early, and as we can see in the last two figures, as we increase the temperature, the convergence becomse too slow, and the agent will learn rather late."
      ]
    },
    {
      "cell_type": "code",
      "metadata": {
        "id": "dU1pakMsIY32"
      },
      "source": [
        ""
      ],
      "execution_count": null,
      "outputs": []
    }
  ]
}