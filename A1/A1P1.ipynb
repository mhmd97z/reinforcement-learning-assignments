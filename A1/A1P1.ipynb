{
  "nbformat": 4,
  "nbformat_minor": 5,
  "metadata": {
    "kernelspec": {
      "display_name": "Python 3",
      "language": "python",
      "name": "python3"
    },
    "language_info": {
      "codemirror_mode": {
        "name": "ipython",
        "version": 3
      },
      "file_extension": ".py",
      "mimetype": "text/x-python",
      "name": "python",
      "nbconvert_exporter": "python",
      "pygments_lexer": "ipython3",
      "version": "3.6.9"
    },
    "colab": {
      "name": "RL1.ipynb",
      "provenance": [],
      "collapsed_sections": []
    }
  },
  "cells": [
    {
      "cell_type": "markdown",
      "metadata": {
        "id": "sRmynKD6oTwh"
      },
      "source": [
        "# Importings"
      ],
      "id": "sRmynKD6oTwh"
    },
    {
      "cell_type": "code",
      "metadata": {
        "id": "48X18GmxoTcB"
      },
      "source": [
        "import numpy as np\n",
        "import MDP"
      ],
      "id": "48X18GmxoTcB",
      "execution_count": null,
      "outputs": []
    },
    {
      "cell_type": "markdown",
      "metadata": {
        "id": "nfCg-1xGog58"
      },
      "source": [
        "# Test MDP Maze"
      ],
      "id": "nfCg-1xGog58"
    },
    {
      "cell_type": "markdown",
      "metadata": {
        "id": "lkUnyStsv-MB"
      },
      "source": [
        "## Problem Defenition"
      ],
      "id": "lkUnyStsv-MB"
    },
    {
      "cell_type": "code",
      "metadata": {
        "id": "o2Uu14kGjt26"
      },
      "source": [
        "''' Construct a simple maze MDP\n",
        "\n",
        "  Grid world layout:\n",
        "\n",
        "  ---------------------\n",
        "  |  0 |  1 |  2 |  3 |\n",
        "  ---------------------\n",
        "  |  4 |  5 |  6 |  7 |\n",
        "  ---------------------\n",
        "  |  8 |  9 | 10 | 11 |\n",
        "  ---------------------\n",
        "  | 12 | 13 | 14 | 15 |\n",
        "  ---------------------\n",
        "\n",
        "  Goal state: 15 \n",
        "  Bad state: 9\n",
        "  End state: 16\n",
        "\n",
        "  The end state is an absorbing state that the agent transitions \n",
        "  to after visiting the goal state.\n",
        "\n",
        "  There are 17 states in total (including the end state) \n",
        "  and 4 actions (up, down, left, right).'''\n",
        "\n",
        "# Transition function: |A| x |S| x |S'| array\n",
        "T = np.zeros([4,17,17])\n",
        "a = 0.8;  # intended move\n",
        "b = 0.1;  # lateral move\n",
        "\n",
        "# up (a = 0)\n",
        "\n",
        "T[0,0,0] = a+b;\n",
        "T[0,0,1] = b;\n",
        "\n",
        "T[0,1,0] = b;\n",
        "T[0,1,1] = a;\n",
        "T[0,1,2] = b;\n",
        "\n",
        "T[0,2,1] = b;\n",
        "T[0,2,2] = a;\n",
        "T[0,2,3] = b;\n",
        "\n",
        "T[0,3,2] = b;\n",
        "T[0,3,3] = a+b;\n",
        "\n",
        "T[0,4,4] = b;\n",
        "T[0,4,0] = a;\n",
        "T[0,4,5] = b;\n",
        "\n",
        "T[0,5,4] = b;\n",
        "T[0,5,1] = a;\n",
        "T[0,5,6] = b;\n",
        "\n",
        "T[0,6,5] = b;\n",
        "T[0,6,2] = a;\n",
        "T[0,6,7] = b;\n",
        "\n",
        "T[0,7,6] = b;\n",
        "T[0,7,3] = a;\n",
        "T[0,7,7] = b;\n",
        "\n",
        "T[0,8,8] = b;\n",
        "T[0,8,4] = a;\n",
        "T[0,8,9] = b;\n",
        "\n",
        "T[0,9,8] = b;\n",
        "T[0,9,5] = a;\n",
        "T[0,9,10] = b;\n",
        "\n",
        "T[0,10,9] = b;\n",
        "T[0,10,6] = a;\n",
        "T[0,10,11] = b;\n",
        "\n",
        "T[0,11,10] = b;\n",
        "T[0,11,7] = a;\n",
        "T[0,11,11] = b;\n",
        "\n",
        "T[0,12,12] = b;\n",
        "T[0,12,8] = a;\n",
        "T[0,12,13] = b;\n",
        "\n",
        "T[0,13,12] = b;\n",
        "T[0,13,9] = a;\n",
        "T[0,13,14] = b;\n",
        "\n",
        "T[0,14,13] = b;\n",
        "T[0,14,10] = a;\n",
        "T[0,14,15] = b;\n",
        "\n",
        "T[0,15,16] = 1;\n",
        "T[0,16,16] = 1;\n",
        "\n",
        "# down (a = 1)\n",
        "\n",
        "T[1,0,0] = b;\n",
        "T[1,0,4] = a;\n",
        "T[1,0,1] = b;\n",
        "\n",
        "T[1,1,0] = b;\n",
        "T[1,1,5] = a;\n",
        "T[1,1,2] = b;\n",
        "\n",
        "T[1,2,1] = b;\n",
        "T[1,2,6] = a;\n",
        "T[1,2,3] = b;\n",
        "\n",
        "T[1,3,2] = b;\n",
        "T[1,3,7] = a;\n",
        "T[1,3,3] = b;\n",
        "\n",
        "T[1,4,4] = b;\n",
        "T[1,4,8] = a;\n",
        "T[1,4,5] = b;\n",
        "\n",
        "T[1,5,4] = b;\n",
        "T[1,5,9] = a;\n",
        "T[1,5,6] = b;\n",
        "\n",
        "T[1,6,5] = b;\n",
        "T[1,6,10] = a;\n",
        "T[1,6,7] = b;\n",
        "\n",
        "T[1,7,6] = b;\n",
        "T[1,7,11] = a;\n",
        "T[1,7,7] = b;\n",
        "\n",
        "T[1,8,8] = b;\n",
        "T[1,8,12] = a;\n",
        "T[1,8,9] = b;\n",
        "\n",
        "T[1,9,8] = b;\n",
        "T[1,9,13] = a;\n",
        "T[1,9,10] = b;\n",
        "\n",
        "T[1,10,9] = b;\n",
        "T[1,10,14] = a;\n",
        "T[1,10,11] = b;\n",
        "\n",
        "T[1,11,10] = b;\n",
        "T[1,11,15] = a;\n",
        "T[1,11,11] = b;\n",
        "\n",
        "T[1,12,12] = a+b;\n",
        "T[1,12,13] = b;\n",
        "\n",
        "T[1,13,12] = b;\n",
        "T[1,13,13] = a;\n",
        "T[1,13,14] = b;\n",
        "\n",
        "T[1,14,13] = b;\n",
        "T[1,14,14] = a;\n",
        "T[1,14,15] = b;\n",
        "\n",
        "T[1,15,16] = 1;\n",
        "T[1,16,16] = 1;\n",
        "\n",
        "# left (a = 2)\n",
        "\n",
        "T[2,0,0] = a+b;\n",
        "T[2,0,4] = b;\n",
        "\n",
        "T[2,1,1] = b;\n",
        "T[2,1,0] = a;\n",
        "T[2,1,5] = b;\n",
        "\n",
        "T[2,2,2] = b;\n",
        "T[2,2,1] = a;\n",
        "T[2,2,6] = b;\n",
        "\n",
        "T[2,3,3] = b;\n",
        "T[2,3,2] = a;\n",
        "T[2,3,7] = b;\n",
        "\n",
        "T[2,4,0] = b;\n",
        "T[2,4,4] = a;\n",
        "T[2,4,8] = b;\n",
        "\n",
        "T[2,5,1] = b;\n",
        "T[2,5,4] = a;\n",
        "T[2,5,9] = b;\n",
        "\n",
        "T[2,6,2] = b;\n",
        "T[2,6,5] = a;\n",
        "T[2,6,10] = b;\n",
        "\n",
        "T[2,7,3] = b;\n",
        "T[2,7,6] = a;\n",
        "T[2,7,11] = b;\n",
        "\n",
        "T[2,8,4] = b;\n",
        "T[2,8,8] = a;\n",
        "T[2,8,12] = b;\n",
        "\n",
        "T[2,9,5] = b;\n",
        "T[2,9,8] = a;\n",
        "T[2,9,13] = b;\n",
        "\n",
        "T[2,10,6] = b;\n",
        "T[2,10,9] = a;\n",
        "T[2,10,14] = b;\n",
        "\n",
        "T[2,11,7] = b;\n",
        "T[2,11,10] = a;\n",
        "T[2,11,15] = b;\n",
        "\n",
        "T[2,12,8] = b;\n",
        "T[2,12,12] = a+b;\n",
        "\n",
        "T[2,13,9] = b;\n",
        "T[2,13,12] = a;\n",
        "T[2,13,13] = b;\n",
        "\n",
        "T[2,14,10] = b;\n",
        "T[2,14,13] = a;\n",
        "T[2,14,14] = b;\n",
        "\n",
        "T[2,15,16] = 1;\n",
        "T[2,16,16] = 1;\n",
        "\n",
        "# right (a = 3)\n",
        "\n",
        "T[3,0,0] = b;\n",
        "T[3,0,1] = a;\n",
        "T[3,0,4] = b;\n",
        "\n",
        "T[3,1,1] = b;\n",
        "T[3,1,2] = a;\n",
        "T[3,1,5] = b;\n",
        "\n",
        "T[3,2,2] = b;\n",
        "T[3,2,3] = a;\n",
        "T[3,2,6] = b;\n",
        "\n",
        "T[3,3,3] = a+b;\n",
        "T[3,3,7] = b;\n",
        "\n",
        "T[3,4,0] = b;\n",
        "T[3,4,5] = a;\n",
        "T[3,4,8] = b;\n",
        "\n",
        "T[3,5,1] = b;\n",
        "T[3,5,6] = a;\n",
        "T[3,5,9] = b;\n",
        "\n",
        "T[3,6,2] = b;\n",
        "T[3,6,7] = a;\n",
        "T[3,6,10] = b;\n",
        "\n",
        "T[3,7,3] = b;\n",
        "T[3,7,7] = a;\n",
        "T[3,7,11] = b;\n",
        "\n",
        "T[3,8,4] = b;\n",
        "T[3,8,9] = a;\n",
        "T[3,8,12] = b;\n",
        "\n",
        "T[3,9,5] = b;\n",
        "T[3,9,10] = a;\n",
        "T[3,9,13] = b;\n",
        "\n",
        "T[3,10,6] = b;\n",
        "T[3,10,11] = a;\n",
        "T[3,10,14] = b;\n",
        "\n",
        "T[3,11,7] = b;\n",
        "T[3,11,11] = a;\n",
        "T[3,11,15] = b;\n",
        "\n",
        "T[3,12,8] = b;\n",
        "T[3,12,13] = a;\n",
        "T[3,12,12] = b;\n",
        "\n",
        "T[3,13,9] = b;\n",
        "T[3,13,14] = a;\n",
        "T[3,13,13] = b;\n",
        "\n",
        "T[3,14,10] = b;\n",
        "T[3,14,15] = a;\n",
        "T[3,14,14] = b;\n",
        "\n",
        "T[3,15,16] = 1;\n",
        "T[3,16,16] = 1;\n",
        "\n",
        "# Reward function: |A| x |S| array\n",
        "R = -1 * np.ones([4,17]);\n",
        "\n",
        "# set rewards\n",
        "R[:,15] = 100;  # goal state\n",
        "R[:,9] = -70;   # bad state\n",
        "R[:,16] = 0;    # end state\n",
        "\n",
        "# Discount factor: scalar in [0,1)\n",
        "discount = 0.95\n",
        "        \n",
        "# MDP object\n",
        "mdp = MDP.MDP(T,R,discount)"
      ],
      "id": "o2Uu14kGjt26",
      "execution_count": null,
      "outputs": []
    },
    {
      "cell_type": "markdown",
      "metadata": {
        "id": "6jWX0HgLwCDg"
      },
      "source": [
        "## Question 1: Value Iteration\n"
      ],
      "id": "6jWX0HgLwCDg"
    },
    {
      "cell_type": "code",
      "metadata": {
        "colab": {
          "base_uri": "https://localhost:8080/"
        },
        "id": "Lt7vO62rpfZe",
        "outputId": "5b9afd68-4edd-4014-dba0-22c45355d9ae"
      },
      "source": [
        "[V,nIterations,epsilon] = mdp.valueIteration(initialV=np.zeros(mdp.nStates),tolerance=0.01)\n",
        "policy = mdp.extractPolicy(V)\n",
        "print(\"V: {}:\\n-----------\".format(V))\n",
        "print(\"Policy: {}\\n-----------\".format(policy))\n",
        "print(\"Required No. of iterations: {}\".format(nIterations))"
      ],
      "id": "Lt7vO62rpfZe",
      "execution_count": null,
      "outputs": [
        {
          "output_type": "stream",
          "name": "stdout",
          "text": [
            "V: [ 60.62388836  66.03486523  71.80422632  77.09196339  59.81429704\n",
            "  65.18237783  77.83066489  84.14118981  58.09361039   7.98780239\n",
            "  84.86704922  91.78159355  69.49584217  76.80962081  91.78159355\n",
            " 100.           0.        ]:\n",
            "-----------\n",
            "Policy: [3 3 3 1 3 3 3 1 1 3 3 1 3 3 3 0 0]\n",
            "-----------\n",
            "Required No. of iterations: 20\n"
          ]
        }
      ]
    },
    {
      "cell_type": "markdown",
      "metadata": {
        "id": "5K61TBK5xSOM"
      },
      "source": [
        "## Question 2: Policy Iteration"
      ],
      "id": "5K61TBK5xSOM"
    },
    {
      "cell_type": "code",
      "metadata": {
        "colab": {
          "base_uri": "https://localhost:8080/"
        },
        "id": "Lw0TUWHivshE",
        "outputId": "22ff9858-817f-4d7f-8573-c5749ea35711"
      },
      "source": [
        "[policy,V,nIterations] = mdp.policyIteration(np.zeros(mdp.nStates,dtype=int))\n",
        "print(\"- V: {}:\\n-----------\".format(V))\n",
        "print(\"- Policy: {}\\n-----------\".format(policy))\n",
        "print(\"- Required No. of iterations: {}\".format(nIterations))"
      ],
      "id": "Lw0TUWHivshE",
      "execution_count": null,
      "outputs": [
        {
          "output_type": "stream",
          "name": "stdout",
          "text": [
            "- V: [ 60.63256172  66.03897428  71.8062328   77.09295576  59.81945165\n",
            "  65.18457679  77.83151901  84.14149059  58.0955782    7.98862928\n",
            "  84.86730581  91.78165089  69.4968138   76.80991653  91.78165089\n",
            " 100.           0.        ]:\n",
            "-----------\n",
            "- Policy: [3 3 3 1 3 3 3 1 1 3 3 1 3 3 3 0 0]\n",
            "-----------\n",
            "- Required No. of iterations: 5\n"
          ]
        }
      ]
    },
    {
      "cell_type": "markdown",
      "metadata": {
        "id": "84cPJe8rx1wH"
      },
      "source": [
        "## Question 3: Modified policy iteration"
      ],
      "id": "84cPJe8rx1wH"
    },
    {
      "cell_type": "code",
      "metadata": {
        "colab": {
          "base_uri": "https://localhost:8080/"
        },
        "id": "SA5JL4fPxdgh",
        "outputId": "c39bfe90-2a3f-4784-ed7e-253ba850529d"
      },
      "source": [
        "nIterationsRequired = []\n",
        "print(\"No. of required iteration in modified policy iteration over No. of partial evualtion iteration\\n[nEvalIterations]: [nIterations]\")\n",
        "for numberOfEvalIterations in range(1, 11):\n",
        "    [policy,V,nIterations,epsilon] = mdp.modifiedPolicyIteration(\n",
        "           np.zeros(mdp.nStates,dtype=int),np.zeros(mdp.nStates),tolerance=0.01,\n",
        "           nEvalIterations=numberOfEvalIterations)\n",
        "    nIterationsRequired.append(nIterations)\n",
        "    print(\"{}: {}\".format(numberOfEvalIterations, nIterations))\n"
      ],
      "id": "SA5JL4fPxdgh",
      "execution_count": null,
      "outputs": [
        {
          "output_type": "stream",
          "name": "stdout",
          "text": [
            "No. of required iteration in modified policy iteration over No. of partial evualtion iteration\n",
            "[nEvalIterations]: [nIterations]\n",
            "1: 12\n",
            "2: 9\n",
            "3: 8\n",
            "4: 7\n",
            "5: 7\n",
            "6: 7\n",
            "7: 6\n",
            "8: 6\n",
            "9: 6\n",
            "10: 6\n"
          ]
        }
      ]
    },
    {
      "cell_type": "markdown",
      "metadata": {
        "id": "36L8uk0Xq2GB"
      },
      "source": [
        "### Discussion\n"
      ],
      "id": "36L8uk0Xq2GB"
    },
    {
      "cell_type": "markdown",
      "metadata": {
        "id": "9P9KeCAcq9c6"
      },
      "source": [
        "When the number of iterations in the evaluatePolicyPartially is increased, it'll give us a more accurate value regarding the given policy. As a result, the number of required iterations in Modified policy iteration would decrease. But one should note that, this does not necessarily reduce the overall run time because evaluatePolicyPartially will take longer. Needless to say, when the number of steps in evaluatePolicyPartially is rather small, we would have kind of value iteration (we need more iterations); on the other hand, when we take many steps in evaluatePolicyPartially, it would be like policy iteration (we need fewer iterations)."
      ],
      "id": "9P9KeCAcq9c6"
    }
  ]
}